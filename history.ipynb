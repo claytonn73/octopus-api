{
 "cells": [
  {
   "cell_type": "code",
   "execution_count": 1,
   "metadata": {},
   "outputs": [
    {
     "name": "stdout",
     "output_type": "stream",
     "text": [
      "Initialising Octopus API Client\n",
      "Calling Octopus API: https://api.octopus.energy/v1/accounts/A-16B54A69/\n",
      "Import mpan found: 1300005076376\n",
      "Current Electricity tariff is : E-1R-GO-22-07-05-D\n",
      "Export mpan found: 1300060956720\n",
      "Current Export tariff is : E-1R-OUTGOING-SEG-FIX-12M-20-07-07-D\n",
      "Gas mprn found: 1501423807\n",
      "Current Gas tariff is : G-1R-VAR-22-11-01-D\n",
      "Calling Octopus API: https://api.octopus.energy/v1/electricity-meter-points/1300005076376/\n",
      "Grid Supply Region is Merseyside and Northern Wales\n"
     ]
    }
   ],
   "source": [
    "from datetime import datetime\n",
    "from os import path\n",
    "import logging\n",
    "import logging.handlers\n",
    "import sys\n",
    "import pandas as pd\n",
    "from dotenv import dotenv_values\n",
    "\n",
    "from octopusapi.api import OctopusClient\n",
    "\n",
    "\"\"\"Log message to sysout.\"\"\"\n",
    "logger = logging.getLogger()\n",
    "logger.addHandler(logging.StreamHandler(sys.stdout))\n",
    "logger.setLevel(logging.INFO)\n",
    "\n",
    "env_path = path.expanduser('~/.env')\n",
    "if path.exists(env_path):\n",
    "    env = dotenv_values(env_path)\n",
    "\n",
    "with OctopusClient(apikey=env.get('octopus_apikey'), account=env.get('octopus_account')) as client:\n",
    "    client.set_page_size(9999)\n",
    "    #client.set_group_by(None)\n",
    "    client.set_period_from(\"2023-08-09T00:00\")\n",
    "    client.set_period_to(\"2023-08-10T00:00\")    \n",
    "\n"
   ]
  },
  {
   "cell_type": "code",
   "execution_count": 6,
   "metadata": {},
   "outputs": [
    {
     "name": "stdout",
     "output_type": "stream",
     "text": [
      "Calling Octopus API: https://api.octopus.energy/v1/electricity-meter-points/1300005076376/meters/15P2048713/consumption/?page_size=9999&period_from=2023-08-06T00:00Z&period_to=2023-08-11T23:55Z&order_by=period\n",
      "Calling Octopus API: https://api.octopus.energy/v1/products/GO-22-07-05/?tariffs_active_at=2023-08-13T13:45Z\n",
      "Calling Octopus API: https://api.octopus.energy/v1/products/GO-22-07-05/electricity-tariffs/E-1R-GO-22-07-05-D/standard-unit-rates/?period_from=2023-08-06T00:00Z&period_to=2023-08-11T23:55Z&page_size=9999\n",
      "Calling Octopus API: https://api.octopus.energy/v1/products/GO-22-07-05/?tariffs_active_at=2023-08-13T13:45Z\n",
      "Calling Octopus API: https://api.octopus.energy/v1/products/GO-22-07-05/electricity-tariffs/E-1R-GO-22-07-05-D/standard-unit-rates/?period_from=2023-08-06T00:00Z&period_to=2023-08-11T23:55Z&page_size=9999\n"
     ]
    }
   ],
   "source": [
    "usage = client.get_electricity_consumption_byrange(ago=7, days=6)"
   ]
  },
  {
   "cell_type": "code",
   "execution_count": 7,
   "metadata": {},
   "outputs": [
    {
     "name": "stdout",
     "output_type": "stream",
     "text": [
      "{\n",
      "    \"2023-08-06T00:00Z\": {\n",
      "        \"OffPeak\": 0.006,\n",
      "        \"Peak\": 0.7860000000000001\n",
      "    },\n",
      "    \"2023-08-07T00:00Z\": {\n",
      "        \"OffPeak\": 2.096,\n",
      "        \"Peak\": 0.17300000000000004\n",
      "    },\n",
      "    \"2023-08-08T00:00Z\": {\n",
      "        \"OffPeak\": 24.317999999999998,\n",
      "        \"Peak\": 0.46400000000000013\n",
      "    },\n",
      "    \"2023-08-09T00:00Z\": {\n",
      "        \"OffPeak\": 14.476999999999999,\n",
      "        \"Peak\": 0.17600000000000002\n",
      "    },\n",
      "    \"2023-08-10T00:00Z\": {\n",
      "        \"OffPeak\": 0.005,\n",
      "        \"Peak\": 0.19\n",
      "    },\n",
      "    \"2023-08-11T00:00Z\": {\n",
      "        \"OffPeak\": 0.007,\n",
      "        \"Peak\": 0.40900000000000003\n",
      "    }\n",
      "}\n"
     ]
    }
   ],
   "source": [
    "import json\n",
    "\n",
    "print(json.dumps(usage, indent=4))"
   ]
  }
 ],
 "metadata": {
  "kernelspec": {
   "display_name": "Python 3",
   "language": "python",
   "name": "python3"
  },
  "language_info": {
   "codemirror_mode": {
    "name": "ipython",
    "version": 3
   },
   "file_extension": ".py",
   "mimetype": "text/x-python",
   "name": "python",
   "nbconvert_exporter": "python",
   "pygments_lexer": "ipython3",
   "version": "3.10.12"
  },
  "orig_nbformat": 4
 },
 "nbformat": 4,
 "nbformat_minor": 2
}
